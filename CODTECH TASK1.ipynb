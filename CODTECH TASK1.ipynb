{
 "cells": [
  {
   "cell_type": "code",
   "execution_count": null,
   "id": "f87ad897",
   "metadata": {},
   "outputs": [],
   "source": [
    "from pyspark.sql import SparkSession\n",
    "\n",
    "\n",
    "spark = SparkSession.builder \\\n",
    "    .appName(\"BigDataAnalysis\") \\\n",
    "    .master(\"local[1]\") \\\n",
    "    .config(\"spark.driver.memory\", \"256m\") \\\n",
    "    .config(\"spark.executor.memory\", \"256m\") \\\n",
    "    .config(\"spark.ui.enabled\", \"false\") \\\n",
    "    .getOrCreate()\n",
    "\n",
    "print(f\"Spark Version: {spark.version}\")"
   ]
  },
  {
   "cell_type": "code",
   "execution_count": null,
   "id": "1bd2ff39",
   "metadata": {},
   "outputs": [],
   "source": [
    "import random\n",
    "from pyspark.sql.functions import lit, col\n",
    "from pyspark.sql.types import StructType, StructField, IntegerType, StringType\n",
    "\n",
    "# Define schema\n",
    "schema = StructType([\n",
    "    StructField(\"RecordNumber\", IntegerType(), True),\n",
    "    StructField(\"Country\", StringType(), True),\n",
    "    StructField(\"City\", StringType(), True),\n",
    "    StructField(\"Zipcode\", StringType(), True),\n",
    "    StructField(\"State\", StringType(), True)\n",
    "])\n",
    "\n",
    "# Sample data from simple-zipcodes.csv\n",
    "cities = [\"PARC PARQUE\", \"PASEO COSTA DEL SUR\", \"BDA SAN LUIS\", \"HOLT\", \"HOMOSASSA\", \n",
    "          \"CINGULAR WIRELESS\", \"FORT WORTH\", \"FT WORTH\", \"SPRUCE PINE\", \"ASH HILL\", \n",
    "          \"URB EUGENE RICE\", \"MESA\", \"HILLIARD\", \"HOLDER\", \"SECT LANAUSSE\", \n",
    "          \"SPRING GARDEN\", \"SPRINGVILLE\", \"ASHEBORO\"]\n",
    "states = [\"PR\", \"FL\", \"TX\", \"AL\", \"NC\", \"AZ\"]\n",
    "zipcodes = [\"704\", \"709\", \"32564\", \"34487\", \"76166\", \"76177\", \"35585\", \"27007\", \n",
    "           \"85209\", \"85210\", \"32046\", \"34445\", \"35146\", \"27203\", \"27204\"]\n",
    "\n",
    "# Generate 100,000 rows\n",
    "num_rows = 100000\n",
    "data = [\n",
    "    (i, \"US\", random.choice(cities), random.choice(zipcodes), random.choice(states))\n",
    "    for i in range(1, num_rows + 1)\n",
    "]\n",
    "\n",
    "# Create DataFrame\n",
    "df = spark.createDataFrame(data, schema)\n",
    "df.show(5, truncate=False)\n",
    "df.printSchema()"
   ]
  },
  {
   "cell_type": "code",
   "execution_count": null,
   "id": "cb1bb4bf",
   "metadata": {},
   "outputs": [],
   "source": [
    "print(f\"Number of rows: {df.count()}\")\n",
    "print(f\"Number of columns: {len(df.columns)}\")"
   ]
  },
  {
   "cell_type": "code",
   "execution_count": null,
   "id": "1fe93156",
   "metadata": {},
   "outputs": [],
   "source": [
    "from pyspark.sql.functions import count, when\n",
    "df.select([count(when(col(c).isNull(), c)).alias(c) for c in df.columns]).show()"
   ]
  },
  {
   "cell_type": "code",
   "execution_count": null,
   "id": "edc30e04",
   "metadata": {},
   "outputs": [],
   "source": [
    "print(f\"Number of rows: {df.count()}\")\n",
    "print(f\"Number of columns: {len(df.columns)}\")"
   ]
  },
  {
   "cell_type": "code",
   "execution_count": null,
   "id": "3c2e5928",
   "metadata": {},
   "outputs": [],
   "source": [
    "from pyspark.sql.functions import count, when\n",
    "df.select([count(when(col(c).isNull(), c)).alias(c) for c in df.columns]).show()"
   ]
  },
  {
   "cell_type": "code",
   "execution_count": null,
   "id": "711920aa",
   "metadata": {},
   "outputs": [],
   "source": [
    "from pyspark.sql.functions import count\n",
    "zip_by_state = df.groupBy(\"State\").agg(count(\"Zipcode\").alias(\"zip_count\")).orderBy(\"zip_count\", ascending=False)\n",
    "zip_by_state.show()"
   ]
  },
  {
   "cell_type": "code",
   "execution_count": null,
   "id": "ceeabafa",
   "metadata": {},
   "outputs": [],
   "source": [
    "top_cities = df.groupBy(\"City\").count().orderBy(\"count\", ascending=False).limit(10)\n",
    "top_cities.show()"
   ]
  },
  {
   "cell_type": "code",
   "execution_count": null,
   "id": "f43508d7",
   "metadata": {},
   "outputs": [],
   "source": [
    "from pyspark.sql.functions import avg\n",
    "avg_record_by_state = df.groupBy(\"State\").agg(avg(\"RecordNumber\").alias(\"avg_record\")).orderBy(\"State\")\n",
    "avg_record_by_state.show()"
   ]
  },
  {
   "cell_type": "code",
   "execution_count": null,
   "id": "bcc1f91c",
   "metadata": {},
   "outputs": [],
   "source": [
    "import matplotlib.pyplot as plt\n",
    "import seaborn as sns\n",
    "\n",
    "# Install matplotlib and seaborn if needed\n",
    "!pip install matplotlib seaborn\n",
    "\n",
    "# Zip Codes by State\n",
    "zip_by_state_pd = zip_by_state.toPandas()\n",
    "plt.figure(figsize=(10, 6))\n",
    "sns.barplot(data=zip_by_state_pd, x=\"State\", y=\"zip_count\")\n",
    "plt.xlabel(\"State\")\n",
    "plt.ylabel(\"Number of Zip Codes\")\n",
    "plt.title(\"Distribution of Zip Codes by State\")\n",
    "plt.show()\n",
    "\n",
    "# Top 10 Cities\n",
    "top_cities_pd = top_cities.toPandas()\n",
    "plt.figure(figsize=(10, 6))\n",
    "sns.barplot(data=top_cities_pd, x=\"count\", y=\"City\")\n",
    "plt.xlabel(\"Number of Records\")\n",
    "plt.ylabel(\"City\")\n",
    "plt.title(\"Top 10 Cities by Frequency\")\n",
    "plt.show()"
   ]
  },
  {
   "cell_type": "code",
   "execution_count": null,
   "id": "fbe23f17",
   "metadata": {},
   "outputs": [],
   "source": [
    "spark.stop()"
   ]
  }
 ],
 "metadata": {
  "kernelspec": {
   "display_name": "Python 3",
   "language": "python",
   "name": "python3"
  },
  "language_info": {
   "name": "python",
   "version": "3.12.6"
  }
 },
 "nbformat": 4,
 "nbformat_minor": 5
}
